{
 "cells": [
  {
   "cell_type": "code",
   "execution_count": 2,
   "metadata": {},
   "outputs": [
    {
     "data": {
      "text/plain": [
       "False"
      ]
     },
     "execution_count": 2,
     "metadata": {},
     "output_type": "execute_result"
    }
   ],
   "source": [
    "import os\n",
    "import sys\n",
    "\n",
    "sys.path.insert(1, os.path.dirname(os.getcwd()))\n",
    "from src.data_loader import DataLoader\n",
    "from alive_progress import alive_it\n",
    "sys.stdout.isatty()"
   ]
  },
  {
   "cell_type": "code",
   "execution_count": 3,
   "metadata": {},
   "outputs": [],
   "source": [
    "dl = DataLoader()"
   ]
  },
  {
   "cell_type": "code",
   "execution_count": 5,
   "metadata": {},
   "outputs": [
    {
     "name": "stdout",
     "output_type": "stream",
     "text": [
      "|🎃🎃🎃🎃🎃🎃🎃🎃🎃🎃🎃🎃🎃🎃🎃🎃🎃🎃🎃🎃| 18/18 [100%] in 51.7s (0.34/s)       \n",
      "0.311\n",
      "234.6798699871896\n"
     ]
    }
   ],
   "source": [
    "global_max_dur = 600\n",
    "summ = 0\n",
    "n = 0\n",
    "for group in alive_it(range(3, 21), bar='halloween', force_tty=True):\n",
    "        for i in range(1, 11):\n",
    "            g = f'0{group}' if group < 10 else f'{group}'\n",
    "            sp = f'0{i}' if i < 10 else f'{i}'\n",
    "            data_k1_imaging = dl.get_data_for_sat_russia(f'KinoSat_11{g}{sp}')\n",
    "            max_dur = 600\n",
    "            for duration in data_k1_imaging[2]['duration']:\n",
    "                  summ += float(duration)\n",
    "                  n += 1\n",
    "                  if float(duration) < max_dur:\n",
    "                        max_dur = float(duration)\n",
    "                  if max_dur < global_max_dur:\n",
    "                        global_max_dur = max_dur\n",
    "                        # print(f'GLOBAL MAX DUR: {global_max_dur}')\n",
    "            # print(f'Max duration KinoSat_11{g}{sp}: {max_dur}')\n",
    "print(global_max_dur)\n",
    "print(summ / n)"
   ]
  },
  {
   "cell_type": "code",
   "execution_count": null,
   "metadata": {},
   "outputs": [],
   "source": []
  }
 ],
 "metadata": {
  "kernelspec": {
   "display_name": ".venv",
   "language": "python",
   "name": "python3"
  },
  "language_info": {
   "codemirror_mode": {
    "name": "ipython",
    "version": 3
   },
   "file_extension": ".py",
   "mimetype": "text/x-python",
   "name": "python",
   "nbconvert_exporter": "python",
   "pygments_lexer": "ipython3",
   "version": "3.11.2"
  },
  "orig_nbformat": 4
 },
 "nbformat": 4,
 "nbformat_minor": 2
}
