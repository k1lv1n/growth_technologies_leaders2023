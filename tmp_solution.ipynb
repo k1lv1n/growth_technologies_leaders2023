{
  "cells": [
    {
      "cell_type": "code",
      "execution_count": 15,
      "metadata": {
        "id": "LMIncXz-YI-A"
      },
      "outputs": [],
      "source": [
        "from ortools.linear_solver import pywraplp\n",
        "import numpy as np"
      ]
    },
    {
      "cell_type": "code",
      "execution_count": 16,
      "metadata": {
        "id": "T0nXbN9CYI-C"
      },
      "outputs": [],
      "source": [
        "# Определяем переменные\n",
        "\n",
        "# Число возможностей\n",
        "num_opportunities = 6\n",
        "\n",
        "# 1 - фоткаем, - 0 сбрасываем\n",
        "c = np.array([1, 1, 0, 0, 0, 0], dtype=np.double)  # Priority weights\n",
        "\n",
        "# Штраф за то что храним данные на спутнике\n",
        "d = np.ones(num_opportunities)\n",
        "\n",
        "# Скорость 4 Гб/c - фоткаем, 1 Гб/c - передаем. а - это время возможности * скорость отправки или передачи\n",
        "a = np.array([10*1000, 10*1000, 6*1000, 4*1000, 1*1000, 5*1000], dtype=np.double)\n",
        "\n",
        "# Это сеты в которых записано то что мы делаем\n",
        "s_img =  {0, 1}\n",
        "s_dl = {2, 3, 4, 5}\n",
        "\n",
        "s_mutex = [[4, 3]]\n",
        "# s_mutex = []\n",
        "\n",
        "op_sat_id = [0, 1, 1, 1, 0, 0]\n",
        "op_sat_id_dict = {0:[0, 4, 5],\n",
        "                  1:[1, 2, 3]}\n",
        "n_sat = 2\n",
        "alpha = 0.000001\n",
        "\n",
        "# capacity\n",
        "cap = 20 * 1000"
      ]
    },
    {
      "cell_type": "code",
      "execution_count": 17,
      "metadata": {
        "colab": {
          "base_uri": "https://localhost:8080/"
        },
        "id": "W1CoUAlApK6o",
        "outputId": "b775e81b-d7f6-4549-e257-b6f43e166834"
      },
      "outputs": [
        {
          "data": {
            "text/plain": [
              "[(4, 3)]"
            ]
          },
          "execution_count": 17,
          "metadata": {},
          "output_type": "execute_result"
        }
      ],
      "source": [
        "from itertools import combinations\n",
        "\n",
        "def get_pairs(s):\n",
        "    return list(combinations(s, 2))\n",
        "get_pairs(s_mutex[0])"
      ]
    },
    {
      "cell_type": "code",
      "execution_count": 18,
      "metadata": {
        "colab": {
          "base_uri": "https://localhost:8080/"
        },
        "id": "rVm5U-dVjIfb",
        "outputId": "52cb3ecb-bb1c-4e14-daa7-d0e0bddb3e46"
      },
      "outputs": [
        {
          "name": "stdout",
          "output_type": "stream",
          "text": [
            "None\n"
          ]
        }
      ],
      "source": [
        "def prev_con_id(con_id):\n",
        "  prev_con = None\n",
        "  sat_key = op_sat_id[con_id]\n",
        "  for el in op_sat_id_dict[sat_key]:\n",
        "    if el == con_id:\n",
        "      return prev_con\n",
        "    prev_con = el\n",
        "print(prev_con_id(1))"
      ]
    },
    {
      "cell_type": "code",
      "execution_count": 19,
      "metadata": {
        "colab": {
          "base_uri": "https://localhost:8080/"
        },
        "id": "n-mciPKLzAhy",
        "outputId": "72106689-3591-4add-9f12-df6672c21d9c"
      },
      "outputs": [
        {
          "name": "stdout",
          "output_type": "stream",
          "text": [
            "dict_values([5, 3])\n"
          ]
        }
      ],
      "source": [
        "def cond_for_moment_i(con_id):\n",
        "  prev_con = None\n",
        "  res = {}\n",
        "  for k in op_sat_id_dict:\n",
        "    for el in op_sat_id_dict[k]:\n",
        "      if el > con_id:\n",
        "        break\n",
        "      res[k] = el\n",
        "      prev_con = el\n",
        "  return res\n",
        "\n",
        "print(cond_for_moment_i(5).values())"
      ]
    },
    {
      "cell_type": "code",
      "execution_count": 24,
      "metadata": {
        "id": "_qvMLggLYI-E"
      },
      "outputs": [],
      "source": [
        "def foo(c_coefs, d_coefs, a_coefs, s_img, s_dl, s_mutex,op_sat_id, op_sat_id_dict, n_sat, alpha, cap ):\n",
        "  # Создаем линейную модель\n",
        "  solver = pywraplp.Solver('Satellite', pywraplp.Solver.CBC_MIXED_INTEGER_PROGRAMMING)\n",
        "\n",
        "  x = [solver.IntVar(0, 1, f'x{i}') for i in range(num_opportunities)]\n",
        "  y = [solver.NumVar(0, cap, f'y{i}') for i in range(num_opportunities)]\n",
        "\n",
        "  # Определяем целевую функцию\n",
        "\n",
        "  objective = solver.Objective()\n",
        "\n",
        "\n",
        "  for el in s_mutex:\n",
        "    for l,r in get_pairs(el):\n",
        "      solver.Add(x[l] + x[r] <= 1)\n",
        "\n",
        "\n",
        "  # Определяем ограничения\n",
        "  for i in range(num_opportunities):\n",
        "    solver.Add(x[i] <= y[i])\n",
        "    pr_con_id = prev_con_id(i)\n",
        "    tmp = 0\n",
        "    if pr_con_id is not None:\n",
        "      tmp = y[pr_con_id]\n",
        "    if i in s_img:\n",
        "        solver.Add(y[i] == tmp + a[i] * x[i])\n",
        "    if i in s_dl:\n",
        "        solver.Add(y[i] >= tmp - a[i] * x[i])\n",
        "\n",
        "  # for i in range(num_opportunities):\n",
        "  #     objective.SetCoefficient(x[i], -c[i])\n",
        "  #     print(cond_for_moment_i(i))\n",
        "  #     for k in cond_for_moment_i(i).values():\n",
        "  #       objective.SetCoefficient(y[k], alpha * d[i])\n",
        "  # objective.SetMinimization()\n",
        "\n",
        "\n",
        "  res = 0\n",
        "  for i in range(num_opportunities):\n",
        "    res -= x[i]* c[i]\n",
        "    for k in cond_for_moment_i(i).values():\n",
        "      res +=  y[k]*alpha*d[k]\n",
        "  solver.Minimize(res)\n",
        "  \n",
        "  # Решаем задачу\n",
        "  status = solver.Solve()\n",
        "  print(f'{solver.wall_time()} ms')\n",
        "\n",
        "  # Выводим результаты\n",
        "  if status == pywraplp.Solver.OPTIMAL:\n",
        "      print('Решение найдено')\n",
        "      print(f'Сумма приоритетов: {objective.Value()}')\n",
        "      for i in range(num_opportunities):\n",
        "          s = sum([round(y[k].solution_value()) for k in cond_for_moment_i(i).values()])\n",
        "          print(f'x{i}: {x[i].solution_value()}, y{i}: {round(y[i].solution_value())}, sat # {op_sat_id[i]}, sum={s}')\n",
        "  else:\n",
        "      print('Решение не найдено')"
      ]
    },
    {
      "cell_type": "code",
      "execution_count": 25,
      "metadata": {
        "colab": {
          "base_uri": "https://localhost:8080/"
        },
        "id": "KK6oGLNM7teF",
        "outputId": "e1d7f9a6-e53d-4aa4-d55c-d13144923aed"
      },
      "outputs": [
        {
          "name": "stdout",
          "output_type": "stream",
          "text": [
            "5 ms\n",
            "Решение найдено\n",
            "Сумма приоритетов: -0.6180000000000001\n",
            "x0: 1.0, y0: 100000, sat # 0, sum=100000\n",
            "x1: 1.0, y1: 99000, sat # 0, sum=99000\n",
            "x2: 1.0, y2: 94000, sat # 0, sum=94000\n",
            "x3: 1.0, y3: 89000, sat # 0, sum=89000\n"
          ]
        }
      ],
      "source": [
        "foo(c,d,a,s_img, s_dl,s_mutex,op_sat_id, op_sat_id_dict, n_sat, alpha,cap)"
      ]
    },
    {
      "cell_type": "markdown",
      "metadata": {
        "id": "_Y3_6e28CGOE"
      },
      "source": [
        "### Одна съемка, 3 передачи"
      ]
    },
    {
      "cell_type": "code",
      "execution_count": 26,
      "metadata": {
        "id": "8uML7NARCKPq"
      },
      "outputs": [],
      "source": [
        "# Число возможностей\n",
        "num_opportunities = 4\n",
        "\n",
        "# 1 - фоткаем, - 0 сбрасываем\n",
        "c = np.array([1, 0, 0, 0], dtype=np.double)  # Priority weights\n",
        "\n",
        "# Штраф за то что храним данные на спутнике\n",
        "d = np.ones(num_opportunities)\n",
        "\n",
        "# Скорость 4 Гб/c - фоткаем, 1 Гб/c - передаем. а - это время возможности * скорость отправки или передачи\n",
        "a = np.array([100*1000, 1*1000, 5*1000, 5*1000], dtype=np.double)\n",
        "\n",
        "# Это сеты в которых записано то что мы делаем\n",
        "s_img =  {0}\n",
        "s_dl = {1,2, 3}\n",
        "\n",
        "s_mutex = []\n",
        "\n",
        "op_sat_id = [0,0,0,0]\n",
        "op_sat_id_dict = {0:[0,1,2,3]}\n",
        "n_sat = 1\n",
        "alpha = 0.000001\n",
        "\n",
        "# capacity\n",
        "cap = 2000 * 1000"
      ]
    },
    {
      "cell_type": "code",
      "execution_count": 36,
      "metadata": {
        "colab": {
          "base_uri": "https://localhost:8080/"
        },
        "id": "3MU9dROMCfeW",
        "outputId": "019aa6b7-c6b0-4f44-dded-2df9e231ee0f"
      },
      "outputs": [
        {
          "name": "stdout",
          "output_type": "stream",
          "text": [
            "7 ms\n",
            "Решение найдено\n",
            "Сумма приоритетов: -0.6180000000000001\n",
            "x0: 1.0, y0: 100000, sat # 0, sum=100000\n",
            "x1: 1.0, y1: 99000, sat # 0, sum=99000\n",
            "x2: 1.0, y2: 94000, sat # 0, sum=94000\n",
            "x3: 1.0, y3: 89000, sat # 0, sum=89000\n"
          ]
        }
      ],
      "source": [
        "foo(c,d,a,s_img, s_dl,s_mutex,op_sat_id, op_sat_id_dict, n_sat, alpha,cap)"
      ]
    },
    {
      "cell_type": "code",
      "execution_count": null,
      "metadata": {},
      "outputs": [],
      "source": []
    }
  ],
  "metadata": {
    "colab": {
      "provenance": []
    },
    "kernelspec": {
      "display_name": ".venv",
      "language": "python",
      "name": "python3"
    },
    "language_info": {
      "codemirror_mode": {
        "name": "ipython",
        "version": 3
      },
      "file_extension": ".py",
      "mimetype": "text/x-python",
      "name": "python",
      "nbconvert_exporter": "python",
      "pygments_lexer": "ipython3",
      "version": "3.11.2"
    },
    "orig_nbformat": 4
  },
  "nbformat": 4,
  "nbformat_minor": 0
}
