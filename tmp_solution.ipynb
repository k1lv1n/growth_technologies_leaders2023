{
  "cells": [
    {
      "cell_type": "code",
      "source": [
        "!pip install ortools"
      ],
      "metadata": {
        "colab": {
          "base_uri": "https://localhost:8080/"
        },
        "id": "PtI0GkW4YQqF",
        "outputId": "bc807087-000a-4930-a66b-0fdc5b5b7485"
      },
      "execution_count": 1,
      "outputs": [
        {
          "output_type": "stream",
          "name": "stdout",
          "text": [
            "Looking in indexes: https://pypi.org/simple, https://us-python.pkg.dev/colab-wheels/public/simple/\n",
            "Requirement already satisfied: ortools in /usr/local/lib/python3.10/dist-packages (9.6.2534)\n",
            "Requirement already satisfied: absl-py>=0.13 in /usr/local/lib/python3.10/dist-packages (from ortools) (1.4.0)\n",
            "Requirement already satisfied: numpy>=1.13.3 in /usr/local/lib/python3.10/dist-packages (from ortools) (1.22.4)\n",
            "Requirement already satisfied: protobuf>=4.21.12 in /usr/local/lib/python3.10/dist-packages (from ortools) (4.23.1)\n",
            "Requirement already satisfied: scipy>=1.10.0 in /usr/local/lib/python3.10/dist-packages (from ortools) (1.10.1)\n"
          ]
        }
      ]
    },
    {
      "cell_type": "code",
      "execution_count": 2,
      "metadata": {
        "id": "LMIncXz-YI-A"
      },
      "outputs": [],
      "source": [
        "from ortools.linear_solver import pywraplp\n",
        "import numpy as np"
      ]
    },
    {
      "cell_type": "code",
      "execution_count": 18,
      "metadata": {
        "id": "T0nXbN9CYI-C"
      },
      "outputs": [],
      "source": [
        "# Определяем переменные\n",
        "\n",
        "# Число возможностей\n",
        "num_opportunities = 6\n",
        "\n",
        "# 1 - фоткаем, - 0 сбрасываем\n",
        "c = [1, 1, 0, 0, 0, 0]  # Priority weights\n",
        "\n",
        "# Штраф за то что храним данные на спутнике\n",
        "d = np.ones(num_opportunities)\n",
        "\n",
        "# Скорость 4 Гб/c - фоткаем, 1 Гб/c - передаем. а - это время возможности * скорость отправки или передачи\n",
        "a = [10*1000, 10*1000, 6*1000, 4*1000, 1*1000, 5*1000]\n",
        "\n",
        "# Это сеты в которых записано то что мы делаем\n",
        "s_img =  {0,1}\n",
        "s_dl = {2, 3, 4, 5}\n",
        "\n",
        "s_mutex = [[4,3]]\n",
        "# s_mutex = []\n",
        "\n",
        "op_sat_id = [0,1,1,1,0,0]\n",
        "op_sat_id_dict = {0:[0,4,5],\n",
        "                  1:[1,2,3]}\n",
        "n_sat = 2\n",
        "alpha = 0.000001\n",
        "\n",
        "# capacity\n",
        "cap = 20 * 1000"
      ]
    },
    {
      "cell_type": "code",
      "source": [
        "from itertools import combinations\n",
        "\n",
        "def get_pairs(s):\n",
        "    return list(combinations(s, 2))\n",
        "get_pairs(s_mutex[0])"
      ],
      "metadata": {
        "colab": {
          "base_uri": "https://localhost:8080/"
        },
        "id": "W1CoUAlApK6o",
        "outputId": "b775e81b-d7f6-4549-e257-b6f43e166834"
      },
      "execution_count": 12,
      "outputs": [
        {
          "output_type": "execute_result",
          "data": {
            "text/plain": [
              "[(4, 3)]"
            ]
          },
          "metadata": {},
          "execution_count": 12
        }
      ]
    },
    {
      "cell_type": "code",
      "source": [
        "def prev_con_id(con_id):\n",
        "  prev_con = None\n",
        "  sat_key = op_sat_id[con_id]\n",
        "  for el in op_sat_id_dict[sat_key]:\n",
        "    if el == con_id:\n",
        "      return prev_con\n",
        "    prev_con = el\n",
        "print(prev_con_id(1))"
      ],
      "metadata": {
        "colab": {
          "base_uri": "https://localhost:8080/"
        },
        "id": "rVm5U-dVjIfb",
        "outputId": "52cb3ecb-bb1c-4e14-daa7-d0e0bddb3e46"
      },
      "execution_count": 13,
      "outputs": [
        {
          "output_type": "stream",
          "name": "stdout",
          "text": [
            "None\n"
          ]
        }
      ]
    },
    {
      "cell_type": "code",
      "source": [
        "def cond_for_moment_i(con_id):\n",
        "  prev_con = None\n",
        "  res = {}\n",
        "  for k in op_sat_id_dict:\n",
        "    for el in op_sat_id_dict[k]:\n",
        "      if el > con_id:\n",
        "        break\n",
        "      res[k] = el\n",
        "      prev_con = el\n",
        "  return res\n",
        "\n",
        "print(cond_for_moment_i(5).values())"
      ],
      "metadata": {
        "colab": {
          "base_uri": "https://localhost:8080/"
        },
        "id": "n-mciPKLzAhy",
        "outputId": "72106689-3591-4add-9f12-df6672c21d9c"
      },
      "execution_count": 14,
      "outputs": [
        {
          "output_type": "stream",
          "name": "stdout",
          "text": [
            "dict_values([5, 3])\n"
          ]
        }
      ]
    },
    {
      "cell_type": "code",
      "execution_count": 21,
      "metadata": {
        "id": "_qvMLggLYI-E"
      },
      "outputs": [],
      "source": [
        "def foo(c_coefs, d_coefs, a_coefs, s_img, s_dl, s_mutex,op_sat_id, op_sat_id_dict, n_sat, alpha, cap ):\n",
        "  # Создаем линейную модель\n",
        "  solver = pywraplp.Solver('Satellite', pywraplp.Solver.CBC_MIXED_INTEGER_PROGRAMMING)\n",
        "\n",
        "  x = [solver.IntVar(0, 1, f'x{i}') for i in range(num_opportunities)]\n",
        "  y = [solver.NumVar(0, cap, f'y{i}') for i in range(num_opportunities)]\n",
        "\n",
        "  # Определяем целевую функцию\n",
        "\n",
        "  objective = solver.Objective()\n",
        "\n",
        "\n",
        "  for el in s_mutex:\n",
        "    for l,r in get_pairs(el):\n",
        "      solver.Add(x[l] + x[r] <= 1)\n",
        "\n",
        "\n",
        "  # Определяем ограничения\n",
        "  for i in range(num_opportunities):\n",
        "    solver.Add(x[i] <= y[i])\n",
        "    pr_con_id = prev_con_id(i)\n",
        "    tmp = 0\n",
        "    if pr_con_id is not None:\n",
        "      tmp = y[pr_con_id]\n",
        "    if i in s_img:\n",
        "        solver.Add(y[i] == tmp + a[i] * x[i])\n",
        "    if i in s_dl:\n",
        "        solver.Add(y[i] >= tmp - a[i] * x[i])\n",
        "\n",
        "  # for i in range(num_opportunities):\n",
        "  #     objective.SetCoefficient(x[i], -c[i])\n",
        "  #     print(cond_for_moment_i(i))\n",
        "  #     for k in cond_for_moment_i(i).values():\n",
        "  #       objective.SetCoefficient(y[k], alpha * d[i])\n",
        "  # objective.SetMinimization()\n",
        "\n",
        "\n",
        "  res = 0\n",
        "  for i in range(num_opportunities):\n",
        "    res -= x[i]* c[i]\n",
        "    for k in cond_for_moment_i(i).values():\n",
        "      res +=  y[k]*alpha*d[k]\n",
        "  solver.Minimize(res)\n",
        "  # Решаем задачу\n",
        "  status = solver.Solve()\n",
        "\n",
        "  # Выводим результаты\n",
        "  if status == pywraplp.Solver.OPTIMAL:\n",
        "      print('Решение найдено')\n",
        "      print(f'Сумма приоритетов: {objective.Value()}')\n",
        "      for i in range(num_opportunities):\n",
        "          s = sum([round(y[k].solution_value()) for k in cond_for_moment_i(i).values()])\n",
        "          print(f'x{i}: {x[i].solution_value()}, y{i}: {round(y[i].solution_value())}, sat # {op_sat_id[i]}, sum={s}')\n",
        "  else:\n",
        "      print('Решение не найдено')"
      ]
    },
    {
      "cell_type": "code",
      "source": [
        "foo(c,d,a,s_img, s_dl,s_mutex,op_sat_id, op_sat_id_dict, n_sat, alpha,cap)"
      ],
      "metadata": {
        "colab": {
          "base_uri": "https://localhost:8080/"
        },
        "id": "KK6oGLNM7teF",
        "outputId": "e1d7f9a6-e53d-4aa4-d55c-d13144923aed"
      },
      "execution_count": 22,
      "outputs": [
        {
          "output_type": "stream",
          "name": "stdout",
          "text": [
            "Решение найдено\n",
            "Сумма приоритетов: -1.930997\n",
            "x0: 1.0, y0: 10000, sat # 0, sum=10000\n",
            "x1: 1.0, y1: 10000, sat # 1, sum=20000\n",
            "x2: 1.0, y2: 4000, sat # 1, sum=14000\n",
            "x3: 1.0, y3: 1, sat # 1, sum=10001\n",
            "x4: 0.0, y4: 10000, sat # 0, sum=10001\n",
            "x5: 1.0, y5: 5000, sat # 0, sum=5001\n"
          ]
        }
      ]
    },
    {
      "cell_type": "markdown",
      "source": [
        "### Одна съемка, 3 передачи"
      ],
      "metadata": {
        "id": "_Y3_6e28CGOE"
      }
    },
    {
      "cell_type": "code",
      "source": [
        "# Число возможностей\n",
        "num_opportunities = 4\n",
        "\n",
        "# 1 - фоткаем, - 0 сбрасываем\n",
        "c = [1, 0, 0, 0]  # Priority weights\n",
        "\n",
        "# Штраф за то что храним данные на спутнике\n",
        "d = np.ones(num_opportunities)\n",
        "\n",
        "# Скорость 4 Гб/c - фоткаем, 1 Гб/c - передаем. а - это время возможности * скорость отправки или передачи\n",
        "a = [100*1000, 1*1000, 5*1000, 5*1000]\n",
        "\n",
        "# Это сеты в которых записано то что мы делаем\n",
        "s_img =  {0}\n",
        "s_dl = {1,2, 3}\n",
        "\n",
        "s_mutex = []\n",
        "\n",
        "op_sat_id = [0,0,0,0]\n",
        "op_sat_id_dict = {0:[0,1,2,3]}\n",
        "n_sat = 1\n",
        "alpha = 0.000001\n",
        "\n",
        "# capacity\n",
        "cap = 2000 * 1000"
      ],
      "metadata": {
        "id": "8uML7NARCKPq"
      },
      "execution_count": 33,
      "outputs": []
    },
    {
      "cell_type": "code",
      "source": [
        "foo(c,d,a,s_img, s_dl,s_mutex,op_sat_id, op_sat_id_dict, n_sat, alpha,cap)"
      ],
      "metadata": {
        "colab": {
          "base_uri": "https://localhost:8080/"
        },
        "id": "3MU9dROMCfeW",
        "outputId": "019aa6b7-c6b0-4f44-dded-2df9e231ee0f"
      },
      "execution_count": 34,
      "outputs": [
        {
          "output_type": "stream",
          "name": "stdout",
          "text": [
            "Решение найдено\n",
            "Сумма приоритетов: -0.6180000000000001\n",
            "x0: 1.0, y0: 100000, sat # 0, sum=100000\n",
            "x1: 1.0, y1: 99000, sat # 0, sum=99000\n",
            "x2: 1.0, y2: 94000, sat # 0, sum=94000\n",
            "x3: 1.0, y3: 89000, sat # 0, sum=89000\n"
          ]
        }
      ]
    }
  ],
  "metadata": {
    "kernelspec": {
      "display_name": ".venv",
      "language": "python",
      "name": "python3"
    },
    "language_info": {
      "codemirror_mode": {
        "name": "ipython",
        "version": 3
      },
      "file_extension": ".py",
      "mimetype": "text/x-python",
      "name": "python",
      "nbconvert_exporter": "python",
      "pygments_lexer": "ipython3",
      "version": "3.11.2"
    },
    "orig_nbformat": 4,
    "colab": {
      "provenance": []
    }
  },
  "nbformat": 4,
  "nbformat_minor": 0
}